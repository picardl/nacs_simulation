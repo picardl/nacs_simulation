{
 "cells": [
  {
   "cell_type": "code",
   "execution_count": 1,
   "metadata": {},
   "outputs": [],
   "source": [
    "from lib.am_utils import *\n",
    "import lib.consts as c\n",
    "import matplotlib.pyplot as plt\n",
    "%matplotlib inline\n",
    "pd.set_option('display.width', 1000)"
   ]
  },
  {
   "cell_type": "markdown",
   "metadata": {},
   "source": [
    "#### The Hamiltonian\n",
    "\\begin{equation}\n",
    "H=H_\\text{rot}+H_\\text{hf}+H_\\text{S}+H_\\text{Z}\n",
    "\\end{equation}\n",
    "where\n",
    "\\begin{equation}\n",
    "H_\\text{rot} = B_v\\mathbf{N}^2-D_v\\mathbf{N}^2\\mathbf{N}^2\n",
    "\\end{equation}\n",
    "\n",
    "\\begin{equation}\n",
    "H_\\text{hf} = \\sum_{i=1}^2\\mathbf{V}_i\\cdot\\mathbf{Q}_i + \\sum_{i=1}^2c_i\\mathbf{N}\\cdot\\mathbf{I}_i + c_3\\mathbf{I}_i\\cdot\\mathbf{T}\\cdot\\mathbf{I}_2+c_4\\mathbf{I}_1\\cdot\\mathbf{I}_2\n",
    "\\end{equation}\n",
    "\n",
    "\\begin{equation}\n",
    "H_S = -\\mathbf{\\mu}\\cdot\\mathbf{E}\n",
    "\\end{equation}\n",
    "\n",
    "\\begin{equation}\n",
    "H_Z = -g_r\\mu_N\\mathbf{N}\\cdot\\mathbf{B} - \\sum_{i=1}^2g_i\\mu_N\\mathbf{I}_i\\cdot\\mathbf{B}(1-\\sigma_i)\n",
    "\\end{equation}"
   ]
  },
  {
   "cell_type": "markdown",
   "metadata": {},
   "source": [
    "#### Parameters"
   ]
  },
  {
   "cell_type": "code",
   "execution_count": 2,
   "metadata": {},
   "outputs": [],
   "source": [
    "# make everything in kHz\n",
    "p0 = {'I1': 3/2,\n",
    "      'I2': 7/2,\n",
    "      'N': arange(0,1),\n",
    "      'g1': 1.478,\n",
    "      'g2': 0.748,\n",
    "      'Bv': 1.7396*1e6, # MHz\n",
    "      'eQq1': -0.097*1e3, # MHz\n",
    "      'eQq2': 0.15*1e3, # MHz\n",
    "      'sig1': 639.2 / 1e6, # ppm\n",
    "      'sig2': 6278.7 / 1e6, # ppm\n",
    "      'c1': 14.2*1e-3, # Hz\n",
    "      'c2': 854.5*1e-3, # Hz\n",
    "      'c3': 105.6*1e-3, # Hz\n",
    "      'c4': 3941.8*1e-3, # Hz\n",
    "      'gr': 0, # 0.0144 ##\n",
    "      'mu': 4.6*3.33564*1e-28/c.h, # D\n",
    "      'muN': 5.050783699e-27 * 1e-4 * 1e-3/ c.h, # J/T\n",
    "      'muE': 4.6*(3.33564e-30), # Debye\n",
    "      'alpha_p': 1872.1153,\n",
    "      'alpha_s': 467.0375,\n",
    "      'E_td_00': np.linspace(0,0,1), # 1000\n",
    "      'trap_pol': np.array([[0],[1],[0]]),\n",
    "      'E_dc': np.array([0,0,0]), # V/cm\n",
    "      'B': np.linspace(0,0,1)}"
   ]
  },
  {
   "cell_type": "markdown",
   "metadata": {},
   "source": [
    "#### Create Hamiltonian\n",
    "Everything ultimately in uncoupled basis"
   ]
  },
  {
   "cell_type": "code",
   "execution_count": 3,
   "metadata": {},
   "outputs": [],
   "source": [
    "def dm_ops_sph(b,j='n'):\n",
    "    _,_,delta_spec = get_spectators(b,[j,'m_'+j],mat=True)\n",
    "    \n",
    "    f1 = b_op(lambda b1,b2,j: (-1)**(b1['m_'+j])*np.sqrt((2*b1[j]+1)*(2*b2[j]+1)), b, 0,j) \n",
    "    f2 = b_op(lambda b1,b2,j: py3nj.wigner3j(b1[j], int(2*1), b2[j],\n",
    "                                             0,     0,        0), b,1,j)\n",
    "    \n",
    "    cg_z = b_op(lambda b1,b2,j,q: py3nj.wigner3j(b1[j],    int(2*1),   b2[j],\n",
    "                                              -b1['m_'+j], int(2*q), b2['m_'+j]), b,1,j,0)\n",
    "    cg_r1 = b_op(lambda b1,b2,j,q: py3nj.wigner3j(b1[j],   int(2*1),   b2[j],\n",
    "                                              -b1['m_'+j], int(2*q), b2['m_'+j]), b,1,j,1)\n",
    "    cg_r2 = b_op(lambda b1,b2,j,q: py3nj.wigner3j(b1[j],   int(2*1),   b2[j],\n",
    "                                              -b1['m_'+j], int(2*q), b2['m_'+j]), b,1,j,-1)\n",
    "        \n",
    "    M_z = delta_spec*f1*f2*cg_z\n",
    "    M_r1 = delta_spec*f1*f2*cg_r1 # sig+\n",
    "    M_r2 = delta_spec*f1*f2*cg_r2 # sig-\n",
    "\n",
    "    return (M_r2,M_z,M_r1)\n",
    "\n",
    "def H_mol(p):\n",
    "    \n",
    "    # create basis\n",
    "    b_uc = am_basis([['i1',p['I1'],1],['i2',p['I2'],1],['n',p['N'],1]])\n",
    "    b_sc, M_uc2sc = couple_basis(b_uc,['i1','i2','i'])\n",
    "    b_fic, M_uc2fic = ([], [])\n",
    "    for i,f in zip(['i1','i2'],['f1','f2']):\n",
    "        b_t, M_t = couple_basis(b_uc,[i,'n',f])\n",
    "        b_fic.append(b_t)\n",
    "        M_uc2fic.append(M_t)\n",
    "    b_fc, M_sc2fc = couple_basis(b_sc,['i','n','f'])\n",
    "    M_uc2fc = M_sc2fc@M_uc2sc    \n",
    "    \n",
    "\n",
    "    H_hf_eQi_fic, H_hf_eQi_fc, H_hf_eQi_uc = ([],[],[])\n",
    "    for ind,j in enumerate(zip(['i1','i2'],['f1','f2'])):\n",
    "        i,n,f = (j[0],'n',j[1])\n",
    "        v = b_fic[ind].v.copy()\n",
    "        C = np.diag(op(b_fic[ind],i+'*'+n+','+f))\n",
    "        H_hf_eQi_fic.append(np.diag(((3*C*C + 3/2*C - v[i]*(v[i]+1)*v[n]*(v[n]+1)) /\n",
    "                      (2*v[i]*(2*v[i]-1)*(2*v[n]-1)*(2*v[n]+3)))))\n",
    "        #H_hf_eQi_fic.append(np.diag(((3/2*C*(2*C+1) - v[i]*(v[i]+1)*v[n]*(v[n]+1)) /\n",
    "        #              (2*v[i]*(2*v[i]-1)*(2*v[n]-1)*(2*v[n]+3)))))\n",
    "        H_hf_eQi_uc.append(np.transpose(M_uc2fic[ind])@H_hf_eQi_fic[ind]@M_uc2fic[ind])\n",
    "        H_hf_eQi_fc.append(M_uc2fc@np.transpose(M_uc2fic[ind])@H_hf_eQi_fic[ind]@\n",
    "                             M_uc2fic[ind]@np.transpose(M_uc2fc))\n",
    "    H_hf_eQ_uc = - p['eQq1']*H_hf_eQi_uc[0] - p['eQq2']*H_hf_eQi_uc[1]\n",
    "\n",
    "    H_rot_uc = p['Bv'] * op(b_uc,'n^2')\n",
    "    H_z_rot_uc = -p['gr']*p['muN'] * op(b_uc,'m_n')\n",
    "    H_z_nuc_uc = -p['g1']*p['muN']*(1-p['sig1']) * op(b_uc,'m_i1') \\\n",
    "                    -p['g2']*p['muN']*(1-p['sig2']) * op(b_uc,'m_i2')\n",
    "\n",
    "    H_hf_sr_uc = (p['c1'] * np.transpose(M_uc2fic[0])@op(b_fic[0],'i1*n,f1')@M_uc2fic[0] + \\\n",
    "                  p['c2'] * np.transpose(M_uc2fic[1])@op(b_fic[1],'i2*n,f2')@M_uc2fic[1])\n",
    "    H_hf_ss_uc = p['c4'] * np.transpose(M_uc2fc)@op(b_fc,'i1*i2,i')@M_uc2fc\n",
    "    \n",
    "    def H_ls(b,a_p,a_s,E00,pol):\n",
    "        \n",
    "        def rot_state_op(b,M):\n",
    "            Mrot = b_op(lambda b1,b2: ((b1['n']==0)&(b2['n']==0))*0 + \n",
    "            (((b1['n']==1)&(b2['n']==1)&(b1['m_n']==-1)&(b2['m_n']==-1))*M[0,0] +\n",
    "             ((b1['n']==1)&(b2['n']==1)&(b1['m_n']==-1)&(b2['m_n']==0))*M[0,1] +\n",
    "             ((b1['n']==1)&(b2['n']==1)&(b1['m_n']==-1)&(b2['m_n']==1))*M[0,2] +\n",
    "             ((b1['n']==1)&(b2['n']==1)&(b1['m_n']==0)&(b2['m_n']==-1))*M[1,0] +\n",
    "             ((b1['n']==1)&(b2['n']==1)&(b1['m_n']==0)&(b2['m_n']==0))*M[1,1] +\n",
    "             ((b1['n']==1)&(b2['n']==1)&(b1['m_n']==0)&(b2['m_n']==1))*M[1,2] +\n",
    "             ((b1['n']==1)&(b2['n']==1)&(b1['m_n']==1)&(b2['m_n']==-1))*M[2,0] +\n",
    "             ((b1['n']==1)&(b2['n']==1)&(b1['m_n']==1)&(b2['m_n']==0))*M[2,1] +\n",
    "             ((b1['n']==1)&(b2['n']==1)&(b1['m_n']==1)&(b2['m_n']==1))*M[2,2]),b,0)\n",
    "            return Mrot\n",
    "        \n",
    "        _,_,delta_spec = get_spectators(b,['n','m_n'],mat=True)\n",
    "        a_00 = 1/3 * (a_p + 2*a_s)\n",
    "        \n",
    "        a_23 = (2*a_p+3*a_s)/5\n",
    "        a_32 = (3*a_p+2*a_s)/5        \n",
    "        a_14 = (a_p+4*a_s)/5\n",
    "        a_11 = (a_p-a_s)/5\n",
    "        \n",
    "        MM = np.zeros((3,3,3,3),dtype = 'complex_')\n",
    "        MM[0,0] = np.array([[a_23,0,0],[0,a_23,0],[0,0,a_14]])\n",
    "        MM[0,1] = np.array([[0,0,1j*a_11/np.sqrt(2)],[0,0,a_11/np.sqrt(2)],[1j*a_11/np.sqrt(2),a_11/np.sqrt(2),0]])\n",
    "        MM[0,2] = np.array([[a_11,-1j*a_11,0],[-1j*a_11,-a_11,0],[0,0,0]])\n",
    "        MM[1,0] = np.array([[0,0,-1j*a_11/np.sqrt(2)],[0,0,a_11/np.sqrt(2)],[-1j*a_11/np.sqrt(2),a_11/np.sqrt(2),0]])\n",
    "        MM[1,1] = np.array([[a_14,0,0],[0,a_14,0],[0,0,a_32]])\n",
    "        MM[1,2] = np.array([[0,0,-1j*a_11/np.sqrt(2)],[0,0,-a_11/np.sqrt(2)],[-1j*a_11/np.sqrt(2),-a_11/np.sqrt(2),0]])\n",
    "        MM[2,0] = np.array([[a_11,1j*a_11,0],[1j*a_11,-a_11,0],[0,0,0]])\n",
    "        MM[2,1] = np.array([[0,0,1j*a_11/np.sqrt(2)],[0,0,-a_11/np.sqrt(2)],[1j*a_11/np.sqrt(2),-a_11/np.sqrt(2),0]])\n",
    "        MM[2,2] = np.array([[a_23,0,0],[0,a_23,0],[0,0,a_14]])   \n",
    "        MM = np.einsum('ijkl->klij',MM)\n",
    "        for i in range(3):\n",
    "            for j in range(3):\n",
    "                np.fill_diagonal(MM[i,j,:,:],np.diagonal(MM[i,j])-a_00)   \n",
    "#                 np.fill_diagonal(MM[i,j,:,:],np.diagonal(MM[i,j])-a_00)        \n",
    "        if pol.shape == (3,1):\n",
    "            P = np.einsum('ijkl,jm->ikl',MM,pol)\n",
    "            Q = np.einsum('ij,jlm->ilm',np.conjugate(pol.T),P)\n",
    "        else:\n",
    "            P = np.einsum('ijkl,jm->ikl',MM,pol.T)\n",
    "            Q = np.einsum('ij,jlm->ilm',np.conjugate(pol),P)\n",
    "        Q = Q / np.linalg.norm(pol)\n",
    "        mat = rot_state_op(b,Q[0,:])\n",
    "        \n",
    "        return delta_spec*mat*E00/a_00     \n",
    "\n",
    "    H_ls_uc = -H_ls(b_uc,p['alpha_p'],p['alpha_s'],1,p['trap_pol'])\n",
    "    \n",
    "    if np.linalg.norm(p['E_dc']) > 0.001:\n",
    "        M_r2,M_z,M_r1 = dm_ops_sph(b_uc)\n",
    "        M_x = (M_r1 + np.conjugate(M_r2.T))/np.sqrt(2)\n",
    "        M_y = (M_r1 - np.conjugate(M_r2.T))*1j/np.sqrt(2)\n",
    "        H_S_uc = - p['muE'] * (p['E_dc'][0] * M_x + p['E_dc'][1] * M_y + p['E_dc'][2] * M_z)\n",
    "    else:\n",
    "        H_S_uc = 0\n",
    "    \n",
    "    if not(p['B'].shape[0] > 1 & p['E_td_00'].shape[0] > 1):\n",
    "        H_B_tot_uc = (H_rot_uc + H_hf_sr_uc + H_hf_ss_uc + H_hf_eQ_uc + H_ls_uc*p['E_td_00'][:, np.newaxis, np.newaxis] +\n",
    "            (H_z_rot_uc + H_z_nuc_uc) * p['B'][:, np.newaxis, np.newaxis]) + H_S_uc\n",
    "    else:\n",
    "        raise ValueError('cannot scan multiple axes')\n",
    "        \n",
    "    return np.real(H_B_tot_uc), b_uc"
   ]
  },
  {
   "cell_type": "markdown",
   "metadata": {},
   "source": [
    "Helper functions"
   ]
  },
  {
   "cell_type": "code",
   "execution_count": 4,
   "metadata": {},
   "outputs": [],
   "source": [
    "def map2basis(Tv):\n",
    "    # finds the \"closest\" uncoupled basis index value\n",
    "    M = np.zeros(Tv.shape)\n",
    "    inds = []\n",
    "    for j in range(Tv.shape[0]):\n",
    "        v = Tv[:,j]\n",
    "        v_amp = np.abs(v)\n",
    "        ind = np.argmax(v_amp)\n",
    "        M[ind,j] = 1\n",
    "        inds.append(ind)\n",
    "    return M, np.array(inds)\n",
    "\n",
    "def disp_vec(buc, Evv, qn_uc, b_print=True):\n",
    "    # display components corresponding to uc basis\n",
    "    if type(qn_uc) == list:\n",
    "        _,inds_vind2uc = map2basis(Evv)\n",
    "        uc_ind = b_uc.get_ind(*qn_uc)[0]\n",
    "        ev_ind = np.where(inds_vind2uc==uc_ind)[0][0]\n",
    "        vec_amps = Evv[:,ev_ind] * Evv[:,ev_ind]\n",
    "        vec_amps0 = Evv[:,ev_ind]\n",
    "        amp_argsort = np.squeeze(np.argsort(-vec_amps,axis=0))\n",
    "        pos = np.argmax(np.squeeze(-np.sort(-vec_amps,axis=0)) < 0.0001)\n",
    "        ddf = b_uc.v.loc[amp_argsort[0:pos],['m_i1','m_i2','n','m_n']]\n",
    "        ddf['amps'] =  np.squeeze(vec_amps0[amp_argsort[0:pos]])\n",
    "    elif type(qn_uc) == int:\n",
    "        vec_amps = Evv[:,qn_uc] * Evv[:,qn_uc]        \n",
    "        vec_amps0 = Evv[:,qn_uc]\n",
    "        amp_argsort = np.squeeze(np.argsort(-vec_amps,axis=0))\n",
    "        pos = np.argmax(np.squeeze(-np.sort(-vec_amps,axis=0)) < 0.0001)\n",
    "        ddf = b_uc.v.loc[amp_argsort[0:pos],['m_i1','m_i2','n','m_n']]\n",
    "        ddf['amps'] =  np.squeeze(vec_amps0[amp_argsort[0:pos]])       \n",
    "        ev_ind = qn_uc\n",
    "    if b_print:\n",
    "        print('Ev index: ' + str(ev_ind))    \n",
    "        print(ddf)\n",
    "    return ev_ind\n",
    "\n",
    "def get_max_ind(v):\n",
    "    return np.argmax(np.abs(v),axis=0)\n",
    "\n",
    "def calc_eig(H):\n",
    "    E0, Ev0 = np.linalg.eig(H)\n",
    "    E0 = np.real(E0)\n",
    "    \n",
    "    if Ev0.shape[0] == 1:\n",
    "        Ev0 = np.squeeze(Ev0)\n",
    "    else:\n",
    "        sort_ind = np.argsort(E0,axis=1)\n",
    "        E0 = np.take_along_axis(E0,sort_ind,axis=1)\n",
    "        Ev0 = np.take_along_axis(Ev0,sort_ind[:,None,:],axis=2)\n",
    "    return E0, Ev0"
   ]
  },
  {
   "cell_type": "code",
   "execution_count": 5,
   "metadata": {},
   "outputs": [],
   "source": [
    "def calc_uwave(E,Ev,b_uc,ss):\n",
    "    \n",
    "    def map2roteig(Tv, b_uc):\n",
    "        inds = np.zeros(Tv.shape[0])\n",
    "        for j in range(Tv.shape[0]):\n",
    "            v = Tv[:,j]\n",
    "            v_amp = np.abs(v)\n",
    "            ind = np.argmax(v_amp)\n",
    "            if b_uc.v.loc[ind,'m_n'] == 0:\n",
    "                inds[j] = 0\n",
    "            elif b_uc.v.loc[ind,'m_n'] == 1 or b_uc.v.loc[ind,'m_n'] == -1:\n",
    "                v_amp[ind] = 0\n",
    "                ind2 = np.argmax(v_amp)\n",
    "                if np.sign(v[ind])*np.sign(v[ind2]) > 0:\n",
    "                    inds[j] = 1\n",
    "                else:\n",
    "                    inds[j] = -1\n",
    "        return inds\n",
    "    \n",
    "    sind = disp_vec(b_uc, Ev0, ss)    \n",
    "    \n",
    "    H_dm_uc = dm_ops_sph(b_uc)\n",
    "    H_dm_v = []\n",
    "    for i in range(3):\n",
    "        H_dm_v.append(np.transpose(Ev)@H_dm_uc[i]@Ev)\n",
    "                \n",
    "    thresh = 0.00001\n",
    "    all_ind = np.array([],dtype=np.int8)\n",
    "    all_ind_uc = np.array([],dtype=np.int8)\n",
    "    vals = np.empty([3],dtype=np.int8)\n",
    "    vals_norm = np.array([],dtype=np.int8)\n",
    "    pols = ['sig-','pi','sig+']\n",
    "    trans_type = []\n",
    "\n",
    "    mat_el = (H_dm_v[0][sind,:]**2+H_dm_v[1][sind,:]**2+H_dm_v[2][sind,:]**2)\n",
    "    ind = (np.argwhere(np.abs(mat_el) > thresh))\n",
    "    all_ind = np.append(all_ind,ind)\n",
    "    all_ind_uc = np.append(all_ind_uc,get_max_ind(Ev[:,ind]))    \n",
    "    mat_el_all = np.array([H_dm_v[0][sind,:],H_dm_v[1][sind,:],H_dm_v[2][sind,:]])\n",
    "    for i in ind:\n",
    "        vals = np.vstack([vals, np.squeeze(mat_el_all[:,i])])\n",
    "        vals_norm = np.append(vals_norm,mat_el[i])\n",
    "    vals = vals[1:,:]\n",
    "    \n",
    "    rot_inds = map2roteig(Ev, b_uc)\n",
    "\n",
    "    df = b_uc.v.loc[all_ind_uc,['m_i1','m_i2','n','m_n']]\n",
    "    # df['m_n'] = df['m_n']\n",
    "    df['mF'] = df[['m_i1','m_i2','m_n']].sum(axis=1)\n",
    "#     df['rot'] = pd.Series(rot_inds)\n",
    "    df[['sig-','pi','sig+']] = pd.DataFrame(index=df.index,data=vals).applymap('{:,.5f}'.format)\n",
    "    df['mat_el_abs'] = np.abs(vals_norm)\n",
    "    # pols = ['sig-','pi','sig+']\n",
    "    #df['pol'] = trans_type\n",
    "\n",
    "    \n",
    "    df['E [kHz]'] = E[0,all_ind] - E[0,all_ind[0]]\n",
    "    df['rot'] = rot_inds[all_ind]\n",
    "    df['v_ind'] = all_ind\n",
    "    print(df.sort_values(['mat_el_abs'],ascending=False).drop(['mat_el_abs'],axis=1))\n",
    "    #df['cost'] = df['cost'].map('${:,.2f}'.format)\n",
    "    #print(df)\n",
    "\n",
    "    \n",
    "def calc_uwave_vals(E,Ev,b_uc,ss):\n",
    "    \n",
    "    def map2roteig(Tv, b_uc):\n",
    "        inds = np.zeros(Tv.shape[0])\n",
    "        for j in range(Tv.shape[0]):\n",
    "            v = Tv[:,j]\n",
    "            v_amp = np.abs(v)\n",
    "            ind = np.argmax(v_amp)\n",
    "            if b_uc.v.loc[ind,'m_n'] == 0:\n",
    "                inds[j] = 0\n",
    "            elif b_uc.v.loc[ind,'m_n'] == 1 or b_uc.v.loc[ind,'m_n'] == -1:\n",
    "                v_amp[ind] = 0\n",
    "                ind2 = np.argmax(v_amp)\n",
    "                if np.sign(v[ind])*np.sign(v[ind2]) > 0:\n",
    "                    inds[j] = 1\n",
    "                else:\n",
    "                    inds[j] = -1\n",
    "        return inds\n",
    "    \n",
    "    sind = disp_vec(b_uc, Ev[0], ss, b_print=False)    \n",
    "    \n",
    "    H_dm_uc = dm_ops_sph(b_uc)\n",
    "    H_dm_v_all = []\n",
    "    for i in range(3):\n",
    "        H_dm_v = np.zeros(Ev.shape[0:2])\n",
    "        for n, vv in enumerate(Ev):\n",
    "            H_dm_v[n,:] = (np.transpose(vv)@H_dm_uc[i]@vv)[sind,:]\n",
    "        H_dm_v_all.append(H_dm_v)\n",
    "\n",
    "    return H_dm_v_all # H_dm_v[:][sind,:]"
   ]
  },
  {
   "cell_type": "markdown",
   "metadata": {},
   "source": [
    "#### B-field dependence, with light shift"
   ]
  },
  {
   "cell_type": "markdown",
   "metadata": {},
   "source": [
    "#### Trap depth dependence"
   ]
  },
  {
   "cell_type": "code",
   "execution_count": 120,
   "metadata": {},
   "outputs": [
    {
     "data": {
      "image/png": "[encoded data removed]",
      "text/plain": [
       "<Figure size 432x288 with 2 Axes>"
      ]
     },
     "metadata": {
      "needs_background": "light"
     },
     "output_type": "display_data"
    }
   ],
   "source": [
    "def color_map_blue(norm_val):\n",
    "    return (1-np.exp(np.log(norm_val)),1-np.exp(np.log(norm_val)),1)\n",
    "def color_map_red(norm_val):\n",
    "    return (1,1-np.power(norm_val,1),1-np.power(norm_val,1))\n",
    "\n",
    "\n",
    "p = p0.copy()\n",
    "p['E_td_00'] = np.linspace(0,6000,400)\n",
    "p['B'] = np.linspace(864,864,1)\n",
    "p['trap_pol'] = np.array([[np.cos(np.arccos(1/3)/2)],[1j*np.sin(np.arccos(1/3)/2)],[0]])\n",
    "H_B,b_uc = H_mol(p)\n",
    "\n",
    "E0, Ev0 = calc_eig(H_B)\n",
    "\n",
    "dm_val = calc_uwave_vals(E0,Ev0,b_uc,[['m_i1',1.5],['m_i2',2.5],['n',0],['m_n',0]])\n",
    "\n",
    "E_offset = E0[0,1]\n",
    "\n",
    "plt.close()\n",
    "plt.figure(1)\n",
    "ax1 = plt.subplot(122)\n",
    "x = p['E_td_00']/1e3\n",
    "ax1.plot(x,(E0-2*p['Bv']-E_offset)/1e3,color='gray',linewidth=0.7)\n",
    "for i,xx in enumerate(x):\n",
    "    dm_this = np.abs(dm_val[1][i,:])**2 # pi polarization for now\n",
    "    dm_this = dm_this / np.max(dm_this)\n",
    "    inds = np.argwhere(np.abs(dm_this) > 0.001)\n",
    "    for j in inds:\n",
    "        ax1.scatter(xx,(E0[i,j]-2*p['Bv']-E_offset)/1e3,color=color_map_blue(np.abs(dm_this)[j][0]),s=2)\n",
    "for i,xx in enumerate(x):\n",
    "#     dm_this = dm_val[0][i,:] # sig polarization\n",
    "    dd = np.abs(dm_val[0][i,:])**2+np.abs(dm_val[2][i,:])**2\n",
    "    dd = dd / np.max(dd)\n",
    "    inds = np.argwhere(dd > 0.001)\n",
    "    for j in inds:\n",
    "        ax1.scatter(xx,(E0[i,j]-2*p['Bv']-E_offset)/1e3,color=color_map_red(np.abs(dd)[j][0]),s=2)        \n",
    "plt.ylim(-1,1.5)\n",
    "plt.xticks(fontsize=12)\n",
    "plt.yticks(fontsize=12)\n",
    "\n",
    "\n",
    "################################################################################################\n",
    "\n",
    "p = p0.copy()\n",
    "p['E_td_00'] = np.linspace(0,6000,400)\n",
    "p['B'] = np.linspace(864,864,1)\n",
    "p['trap_pol'] = np.array([[0],[1],[0]])\n",
    "H_B,b_uc = H_mol(p)\n",
    "\n",
    "E0, Ev0 = calc_eig(H_B)\n",
    "\n",
    "dm_val = calc_uwave_vals(E0,Ev0,b_uc,[['m_i1',1.5],['m_i2',2.5],['n',0],['m_n',0]])\n",
    "    \n",
    "ax2 = plt.subplot(121)\n",
    "x = p['E_td_00']/1e3\n",
    "ax2.plot(x,(E0-2*p['Bv']-E_offset)/1e3,color='gray',linewidth=0.7)\n",
    "for i,xx in enumerate(x):\n",
    "    dm_this = np.abs(dm_val[1][i,:])**2 # pi polarization for now\n",
    "    dm_this = dm_this / np.max(dm_this)\n",
    "    inds = np.argwhere(np.abs(dm_this) > 0.001)\n",
    "    for j in inds:\n",
    "        ax2.scatter(xx,(E0[i,j]-2*p['Bv']-E_offset)/1e3,color=color_map_blue(np.abs(dm_this)[j][0]),s=2)\n",
    "for i,xx in enumerate(x):\n",
    "#     dm_this = dm_val[0][i,:] # sig polarization\n",
    "    dd = np.abs(dm_val[0][i,:])**2+np.abs(dm_val[2][i,:])**2\n",
    "    dd = dd / np.max(dd)\n",
    "    inds = np.argwhere(dd > 0.001)\n",
    "    for j in inds:\n",
    "        ax2.scatter(xx,(E0[i,j]-2*p['Bv']-E_offset)/1e3,color=color_map_red(np.abs(dd)[j][0]),s=2)        \n",
    "plt.ylim(-1,1.5)\n",
    "plt.xticks(fontsize=12)\n",
    "plt.yticks(fontsize=12)\n",
    "plt.xlabel('$|N=0,m_N=0>$ trap depth [MHz]',{'size':'14'})\n",
    "plt.ylabel('Transition frequency - 2$B_v$ [MHz]',{'size':'14'})\n",
    "\n",
    "plt.savefig(\"figs/acstark.svg\", format=\"svg\")"
   ]
  },
  {
   "cell_type": "code",
   "execution_count": 119,
   "metadata": {},
   "outputs": [
    {
     "name": "stderr",
     "output_type": "stream",
     "text": [
      "<ipython-input-83-bee71c5b7c24>:2: RuntimeWarning: divide by zero encountered in log\n",
      "  return (1-np.exp(np.log(norm_val)),1-np.exp(np.log(norm_val)),1)\n"
     ]
    },
    {
     "data": {
      "image/png": "[encoded data removed]",
      "text/plain": [
       "<Figure size 72x324 with 2 Axes>"
      ]
     },
     "metadata": {
      "needs_background": "light"
     },
     "output_type": "display_data"
    }
   ],
   "source": [
    "# plot colormap for the figure\n",
    "xx = np.array([0,1])\n",
    "yys = np.linspace(0.00,1,100)\n",
    "\n",
    "plt.figure(figsize=(1,4.5))\n",
    "ax1 = plt.subplot(121)\n",
    "ax2 = plt.subplot(122)\n",
    "for i,yy in enumerate(yys):\n",
    "    ax1.plot(xx,np.array([yy,yy]),color=color_map_red(yy),linewidth=3)\n",
    "    ax2.plot(xx,np.array([yy,yy]),color=color_map_blue(yy),linewidth=3)\n",
    "ax1.plot([-.1,1.1,1.1,-0.1,-0.1],[-0.01,-0.01,1.01,1.01,-0.01],color='black')\n",
    "ax1.title.set_text('$\\pi$')\n",
    "ax2.plot([-0.1,1.1,1.1,-0.1,-0.1],[-.01,-.01,1.01,1.01,-.01],color='black')\n",
    "ax2.title.set_text('$\\sigma^+/\\sigma^-$')\n",
    "ax1.axis('off')\n",
    "ax2.axis('off')\n",
    "\n",
    "plt.savefig(\"figs/acstark-colormap.svg\", format=\"svg\")"
   ]
  },
  {
   "cell_type": "markdown",
   "metadata": {},
   "source": [
    "#### B-field dependence, with light shift"
   ]
  },
  {
   "cell_type": "code",
   "execution_count": 246,
   "metadata": {},
   "outputs": [],
   "source": [
    "# p = p0.copy()\n",
    "# p['B'] = np.linspace(0,2,100)\n",
    "# H_B,_ = H_mol(p)\n",
    "\n",
    "p = p0.copy()\n",
    "p['E_td_00'] = np.linspace(3500,3500,1) # np.linspace(0,0,1) # \n",
    "p['B'] = np.linspace(0,1000,500)\n",
    "p['trap_pol'] = np.array([[np.cos(np.arccos(1/3)/2)],[1j*np.sin(np.arccos(1/3)/2)],[0]])\n",
    "H_B,b_uc = H_mol(p)\n",
    "\n",
    "E0, Ev0 = calc_eig(H_B)"
   ]
  },
  {
   "cell_type": "code",
   "execution_count": 336,
   "metadata": {},
   "outputs": [
    {
     "data": {
      "image/png": "[encoded data removed]",
      "text/plain": [
       "<Figure size 360x504 with 2 Axes>"
      ]
     },
     "metadata": {
      "needs_background": "light"
     },
     "output_type": "display_data"
    }
   ],
   "source": [
    "def map2roteig_wrapper(Tv, b_uc):\n",
    "    def map2roteig(Tv, b_uc):\n",
    "        inds = np.zeros(Tv.shape[0])\n",
    "        for j in range(Tv.shape[0]):\n",
    "            v = Tv[:,j]\n",
    "            v_amp = np.abs(v)\n",
    "            ind = np.argmax(v_amp)\n",
    "            if b_uc.v.loc[ind,'m_n'] == 0:\n",
    "                inds[j] = 0\n",
    "            elif b_uc.v.loc[ind,'m_n'] == 1 or b_uc.v.loc[ind,'m_n'] == -1:\n",
    "                v_amp[ind] = 0\n",
    "                ind2 = np.argmax(v_amp)\n",
    "                if np.sign(v[ind])*np.sign(v[ind2]) > 0:\n",
    "                    inds[j] = 1\n",
    "                else:\n",
    "                    inds[j] = -1\n",
    "        return inds\n",
    "    return map2roteig(Tv, b_uc)\n",
    "\n",
    "inds_0 = np.zeros(Ev0.shape[0],dtype=np.int8)\n",
    "Em_0 = np.zeros(Ev0.shape[0])\n",
    "inds_1 = np.zeros(Ev0.shape[0],dtype=np.int8)\n",
    "Em_1 = np.zeros(Ev0.shape[0])\n",
    "inds_e = np.zeros(Ev0.shape[0],dtype=np.int8)\n",
    "Em_e = np.zeros(Ev0.shape[0])\n",
    "for k, Evv in enumerate(Ev0):\n",
    "    _,M_ind = map2basis(Evv)\n",
    "    # find 0,0,3/2,5/2\n",
    "    if k > 7:\n",
    "        ii_0 = b_uc.get_ind(['m_i1',1.5],['m_i2',2.5],['n',0],['m_n',0])[0]\n",
    "    else:\n",
    "        ii_0 = b_uc.get_ind(['m_i1',0.5],['m_i2',3.5],['n',0],['m_n',0])[0]\n",
    "#     ii_e_2 = b_uc.get_ind(['m_i1',1.5],['m_i2',2.5],['n',1],['m_n',-1])[0]\n",
    "    ii_1 = b_uc.get_ind(['m_i1',1.5],['m_i2',3.5],['n',0],['m_n',0])[0]\n",
    "#     print(np.argwhere(M_ind==ii)[0])\n",
    "    inds_0[k] = np.argwhere(M_ind==ii_0)[0][0]\n",
    "    Em_0[k] = E0[k,inds_0[k]]\n",
    "    inds_1[k] = np.argwhere(M_ind==ii_1)[0][0]\n",
    "    Em_1[k] = E0[k,inds_1[k]]\n",
    "    \n",
    "    ii_e_s = b_uc.get_ind(['m_i1',1.5],['m_i2',2.5],['n',1])\n",
    "    inds_tmp = np.array([],dtype=np.int8)\n",
    "    for qii in ii_e_s:\n",
    "        DD = np.argwhere(M_ind==qii)\n",
    "        if np.any(DD):\n",
    "            inds_tmp = np.append(inds_tmp,DD)\n",
    "    roteig_vals = map2roteig_wrapper(Evv,b_uc)\n",
    "    \n",
    "    ii_e = -10\n",
    "    for pii in inds_tmp:\n",
    "        if roteig_vals[pii] == -1:\n",
    "            ii_e = pii\n",
    "            break\n",
    "    if ii_e == -10:\n",
    "        ii_e = 121\n",
    "#         print(k)\n",
    "#         print(inds_tmp)\n",
    "#         print('something wrong')\n",
    "    inds_e[k] = ii_e\n",
    "    Em_e[k] = E0[k,inds_e[k]]      \n",
    "    if k == 7:\n",
    "        inds_e[k] = ii_e\n",
    "        Em_e[k] = E0[k,inds_e[k-1]]   \n",
    "#     print(inds_0[k])\n",
    "    \n",
    "# plt.close()\n",
    "plt.figure(1,figsize=(5,7))\n",
    "B0 = p['B']\n",
    "ax2 = plt.subplot(211)\n",
    "ax2.plot(B0,(E0-2*p['Bv'])/1e3,color='gray',linewidth=0.65)\n",
    "ax2.plot(B0,(Em_e[:]-2*p['Bv'])/1e3,color='green',linewidth=3)\n",
    "# pt_gs = ax2.plot(B0,Egs-2*Bv,color='blue',linewidth=0.5)\n",
    "plt.ylim(-4,4)\n",
    "plt.xlim(0,1000)\n",
    "plt.xticks(fontsize=12)\n",
    "plt.yticks(fontsize=12)\n",
    "plt.ylabel('$E - 2B_v$ [MHz]',{'size':14})\n",
    "ax1 = plt.subplot(212)\n",
    "pt = ax1.plot(B0,E0/1e3,color='gray',linewidth=0.65)\n",
    "# pt_gs = ax1.plot(B0,Egs/1e3,color='blue',linewidth=1)\n",
    "# pt_gs = ax1.plot(B0,E0[:,1]/1e3,color='red',linewidth=1)\n",
    "ax1.plot(B0,Em_1[:]/1e3,color='red',linewidth=3)\n",
    "ax1.plot(B0,Em_0[:]/1e3,color='blue',linewidth=3)\n",
    "plt.xlabel('B [G]',{'size':14})\n",
    "plt.ylabel('$E$ [MHz]',{'size':14})\n",
    "plt.xticks(fontsize=12)\n",
    "plt.yticks(fontsize=12)\n",
    "# plt.xlim(0,80)\n",
    "plt.ylim(-4,4)\n",
    "plt.xlim(0,1000)\n",
    "plt.savefig(\"figs/zeeman.svg\", format=\"svg\")"
   ]
  },
  {
   "cell_type": "markdown",
   "metadata": {},
   "source": [
    "#### Try plotting magnetic moment"
   ]
  },
  {
   "cell_type": "code",
   "execution_count": 342,
   "metadata": {},
   "outputs": [],
   "source": [
    "# p = p0.copy()\n",
    "# p['B'] = np.linspace(0,2,100)\n",
    "# H_B,_ = H_mol(p)\n",
    "\n",
    "p = p0.copy()\n",
    "p['E_td_00'] = np.linspace(3500,3500,1) # np.linspace(0,0,1) # \n",
    "p['B'] = np.linspace(864,864.5,2)\n",
    "p['trap_pol'] = np.array([[np.cos(np.arccos(1/3)/2)],[1j*np.sin(np.arccos(1/3)/2)],[0]])\n",
    "H_B,b_uc = H_mol(p)\n",
    "\n",
    "E0, Ev0 = calc_eig(H_B)"
   ]
  },
  {
   "cell_type": "code",
   "execution_count": 344,
   "metadata": {},
   "outputs": [
    {
     "data": {
      "text/plain": [
       "[<matplotlib.lines.Line2D at 0x7f32bb7a08b0>]"
      ]
     },
     "execution_count": 344,
     "metadata": {},
     "output_type": "execute_result"
    },
    {
     "data": {
      "image/png": "[encoded data removed]",
      "text/plain": [
       "<Figure size 432x288 with 1 Axes>"
      ]
     },
     "metadata": {
      "needs_background": "light"
     },
     "output_type": "display_data"
    }
   ],
   "source": [
    "plt.plot(E0[1,0:32]-E0[0,0:32])"
   ]
  },
  {
   "cell_type": "code",
   "execution_count": null,
   "metadata": {},
   "outputs": [],
   "source": [
    "E"
   ]
  },
  {
   "cell_type": "markdown",
   "metadata": {},
   "source": [
    "#### uwave pathways"
   ]
  },
  {
   "cell_type": "code",
   "execution_count": 337,
   "metadata": {
    "tags": []
   },
   "outputs": [],
   "source": [
    "p = p0.copy()\n",
    "p['E_td_00'] = np.linspace(3500,3500,1)\n",
    "p['B'] = np.linspace(864,864,1)\n",
    "p['trap_pol'] = np.array([[np.cos(np.arccos(1/3)/2)],[1j*np.sin(np.arccos(1/3)/2)],[0]])\n",
    "# p['trap_pol'] = np.array([[0],[1],[0]])\n",
    "H_B,b_uc = H_mol(p)\n",
    "\n",
    "E0, Ev0 = calc_eig(H_B)"
   ]
  },
  {
   "cell_type": "code",
   "execution_count": 338,
   "metadata": {},
   "outputs": [
    {
     "name": "stdout",
     "output_type": "stream",
     "text": [
      "Ev index: 29\n",
      "     m_i1  m_i2    n  m_n     amps\n",
      "120   1.5   2.5  0.0  0.0 -0.99982\n",
      "92    0.5   3.5  0.0  0.0  0.01899\n",
      "     m_i1  m_i2    n  m_n   mF      sig-        pi      sig+      E [kHz]  rot  v_ind\n",
      "121   1.5   2.5  1.0 -1.0  3.0  -0.40955   0.00000  -0.40685     0.000000  1.0     30\n",
      "123   1.5   2.5  1.0  1.0  5.0   0.40646   0.00000  -0.40919   700.580901 -1.0     33\n",
      "122   1.5   2.5  1.0  0.0  4.0   0.00000  -0.57660  -0.00000  1391.203388  0.0     61\n",
      "126   1.5   3.5  1.0  0.0  5.0   0.01062  -0.00000  -0.01738   920.527864  0.0     36\n",
      "91    0.5   2.5  1.0  1.0  4.0   0.00000  -0.01840  -0.00000  1654.417416 -1.0     68\n",
      "119   1.5   1.5  1.0  1.0  4.0  -0.00000  -0.01778   0.00000  1188.418148 -1.0     53\n",
      "113   1.5   0.5  1.0 -1.0  1.0  -0.01365   0.00000   0.00773   973.789516  1.0     38\n",
      "89    0.5   2.5  1.0 -1.0  2.0   0.00000   0.01102  -0.00000   953.349429  1.0     51\n",
      "61   -0.5   3.5  1.0 -1.0  2.0   0.00000   0.00630  -0.00000  1418.881357  1.0     62\n",
      "118   1.5   1.5  1.0  0.0  3.0  -0.00521   0.00000   0.00121  1865.960685  0.0     58\n",
      "115   1.5   0.5  1.0  1.0  3.0  -0.00467   0.00000   0.00124  1674.326644 -1.0     52\n",
      "57   -0.5   2.5  1.0 -1.0  1.0  -0.00462   0.00000   0.00104  1916.716971  1.0     60\n",
      "127   1.5   3.5  1.0  1.0  6.0   0.00000  -0.00470  -0.00000   211.097924 -1.0     44\n",
      "117   1.5   1.5  1.0 -1.0  2.0   0.00000  -0.00407  -0.00000   487.911159  1.0     45\n",
      "90    0.5   2.5  1.0  0.0  3.0   0.00347   0.00000  -0.00060  2373.854035  0.0     71\n"
     ]
    }
   ],
   "source": [
    "calc_uwave(E0,Ev0,b_uc,[['m_i1',1.5],['m_i2',2.5],['n',0],['m_n',0]])"
   ]
  },
  {
   "cell_type": "code",
   "execution_count": 339,
   "metadata": {},
   "outputs": [
    {
     "name": "stdout",
     "output_type": "stream",
     "text": [
      "Ev index: 33\n",
      "     m_i1  m_i2    n  m_n      amps\n",
      "123   1.5   2.5  1.0  1.0  0.708603\n",
      "121   1.5   2.5  1.0 -1.0 -0.703847\n",
      "126   1.5   3.5  1.0  0.0  0.034371\n",
      "115   1.5   0.5  1.0  1.0 -0.023623\n",
      "93    0.5   3.5  1.0 -1.0  0.014995\n",
      "95    0.5   3.5  1.0  1.0 -0.013792\n",
      "113   1.5   0.5  1.0 -1.0 -0.013290\n",
      "     m_i1  m_i2    n  m_n   mF      sig-        pi      sig+      E [kHz]  rot  v_ind\n",
      "120   1.5   2.5  0.0  0.0  4.0   0.40919   0.00000  -0.40646  -967.052136  0.0     29\n",
      "124   1.5   3.5  0.0  0.0  5.0  -0.00000   0.01984  -0.00000 -1450.501690  0.0    127\n",
      "112   1.5   0.5  0.0  0.0  2.0  -0.01364   0.00000  -0.00767     0.000000  0.0     12\n",
      "56   -0.5   2.5  0.0  0.0  2.0  -0.00458  -0.00000  -0.00103   959.181736  0.0     19\n",
      "116   1.5   1.5  0.0  0.0  3.0   0.00000  -0.00445   0.00000  -483.551149  0.0     27\n"
     ]
    }
   ],
   "source": [
    "calc_uwave(E0,Ev0,b_uc,33)"
   ]
  },
  {
   "cell_type": "code",
   "execution_count": null,
   "metadata": {},
   "outputs": [],
   "source": []
  },
  {
   "cell_type": "code",
   "execution_count": 19,
   "metadata": {},
   "outputs": [],
   "source": [
    "p = p0.copy()\n",
    "p['E_td_00'] = np.linspace(3500,3500,1)\n",
    "p['B'] = np.linspace(864,864+0.01,2)\n",
    "p['trap_pol'] = np.array([[np.cos(np.arccos(1/3)/2)],[1j*np.sin(np.arccos(1/3)/2)],[0]])\n",
    "# p['trap_pol'] = np.array([[0],[1],[0]])\n",
    "H_B,b_uc = H_mol(p)\n",
    "\n",
    "E0, Ev0 = calc_eig(H_B)"
   ]
  },
  {
   "cell_type": "code",
   "execution_count": 20,
   "metadata": {},
   "outputs": [],
   "source": [
    "Emm_0 = E0[:,29]\n",
    "Emm_e = E0[:,33]\n",
    "Emm_1 = E0[:,127]"
   ]
  },
  {
   "cell_type": "code",
   "execution_count": 21,
   "metadata": {},
   "outputs": [],
   "source": [
    "Emm = Emm_e-Emm_0\n",
    "delta_Emm = Emm[1]-Emm[0]\n",
    "Enn = Emm_1-Emm_0\n",
    "delta_Enn = Enn[1]-Enn[0]"
   ]
  },
  {
   "cell_type": "code",
   "execution_count": 22,
   "metadata": {},
   "outputs": [
    {
     "data": {
      "text/plain": [
       "-17.69545500292927"
      ]
     },
     "execution_count": 22,
     "metadata": {},
     "output_type": "execute_result"
    }
   ],
   "source": [
    "1/delta_Emm"
   ]
  },
  {
   "cell_type": "code",
   "execution_count": 23,
   "metadata": {},
   "outputs": [
    {
     "data": {
      "text/plain": [
       "88.83854060767183"
      ]
     },
     "execution_count": 23,
     "metadata": {},
     "output_type": "execute_result"
    }
   ],
   "source": [
    "1/delta_Enn"
   ]
  },
  {
   "cell_type": "code",
   "execution_count": null,
   "metadata": {},
   "outputs": [],
   "source": []
  },
  {
   "cell_type": "code",
   "execution_count": 28,
   "metadata": {},
   "outputs": [],
   "source": [
    "p = p0.copy()\n",
    "p['E_td_00'] = np.linspace(3500,3500+3500*0.0001,2)\n",
    "p['B'] = np.linspace(864,864,1)\n",
    "p['trap_pol'] = np.array([[np.cos(np.arccos(1/3)/2)],[1j*np.sin(np.arccos(1/3)/2)],[0]])\n",
    "# p['trap_pol'] = np.array([[0],[1],[0]])\n",
    "H_B,b_uc = H_mol(p)\n",
    "\n",
    "E0, Ev0 = calc_eig(H_B)"
   ]
  },
  {
   "cell_type": "code",
   "execution_count": 29,
   "metadata": {},
   "outputs": [],
   "source": [
    "Emm_0 = E0[:,29]\n",
    "Emm_e = E0[:,33]\n",
    "Emm_1 = E0[:,127]\n",
    "\n",
    "Emm = Emm_e-Emm_0\n",
    "delta_Emm = Emm[1]-Emm[0]\n",
    "Enn = Emm_1-Emm_0\n",
    "delta_Enn = Enn[1]-Enn[0]"
   ]
  },
  {
   "cell_type": "code",
   "execution_count": 30,
   "metadata": {},
   "outputs": [
    {
     "data": {
      "text/plain": [
       "14.267212880634865"
      ]
     },
     "execution_count": 30,
     "metadata": {},
     "output_type": "execute_result"
    }
   ],
   "source": [
    "1/delta_Enn"
   ]
  },
  {
   "cell_type": "code",
   "execution_count": null,
   "metadata": {},
   "outputs": [],
   "source": []
  }
 ],
 "metadata": {
  "kernelspec": {
   "display_name": "Python 3",
   "language": "python",
   "name": "python3"
  },
  "language_info": {
   "codemirror_mode": {
    "name": "ipython",
    "version": 3
   },
   "file_extension": ".py",
   "mimetype": "text/x-python",
   "name": "python",
   "nbconvert_exporter": "python",
   "pygments_lexer": "ipython3",
   "version": "3.8.10"
  }
 },
 "nbformat": 4,
 "nbformat_minor": 4
}
